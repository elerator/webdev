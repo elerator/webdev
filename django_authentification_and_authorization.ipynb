{
 "cells": [
  {
   "cell_type": "markdown",
   "metadata": {},
   "source": [
    "# Django authentification and authorization"
   ]
  },
  {
   "cell_type": "markdown",
   "metadata": {},
   "source": [
    "In Django you have different options of how to restrict parts of your website or certain functions of it to specific users or goups of users.\n",
    "\n",
    "A very simple approach is to restrict access to cetain routes to authentificated users and redirect to the login page otherwise. In doing so one may restrict access to the page to users that do have an account or password. A login required middleware can be used [10].\n",
    "\n",
    "However, typically one will target at restricting certain functions or contents of your website even if a user is logged in either based on the identity of the user (imagine editing one's profile in a social network) or a group he belongs to (such as the group of chatroom admins that may delete posts). Moreover, in many cases one would want allow guests (that are not authentificated) to access parts of the site.\n",
    "\n",
    "Django offers different options to achieve the above said. Here we use the following approach:"
   ]
  },
  {
   "cell_type": "markdown",
   "metadata": {},
   "source": [
    "1. We use the **login required decorator** to restrict guests (no authentification) from accessing certain sites or functions\n",
    "2. We use **in template authentification checks to display different contents** depending on permissions (authorization)\n",
    "3. We use **in method checks for permission dependant updates of contents etc** (if changes in database are made/permissions are changed; controller functions)\n",
    "4. We use **in template checks for the navigation bar** such that links to pages for authentificated users only are not displayed (see below)"
   ]
  },
  {
   "cell_type": "markdown",
   "metadata": {},
   "source": [
    "## Login required decorator"
   ]
  },
  {
   "cell_type": "markdown",
   "metadata": {},
   "source": [
    "The login required decorator is used to limit access for guests."
   ]
  },
  {
   "cell_type": "code",
   "execution_count": null,
   "metadata": {},
   "outputs": [],
   "source": [
    "from django.contrib.auth.decorators import login_required\n",
    "\n",
    "@login_required\n",
    "def private_function(request):\n",
    "    # Do whatever is necessary here"
   ]
  },
  {
   "cell_type": "markdown",
   "metadata": {},
   "source": [
    "## In template authentification checks"
   ]
  },
  {
   "cell_type": "code",
   "execution_count": null,
   "metadata": {},
   "outputs": [],
   "source": [
    "In your view:\n",
    "{% if user.is_authenticated %}\n",
    "<p>{{ user }}</p>\n",
    "{% endif %}"
   ]
  },
  {
   "cell_type": "markdown",
   "metadata": {},
   "source": [
    "# Sources and further reading:\n",
    "1. https://stackoverflow.com/questions/3644902/how-to-check-if-a-user-is-logged-in-how-to-properly-use-user-is-authenticated\n",
    "2. https://www.techiediaries.com/django-form-bootstrap/\n",
    "3. https://stackoverflow.com/questions/54597938/bootstrap-4-responsive-card-grid-array\n",
    "4. https://getbootstrap.com/docs/4.1/layout/grid/\n",
    "5. https://getbootstrap.com/docs/4.3/components/card/\n",
    "6. https://docs.djangoproject.com/en/3.0/topics/forms/\n",
    "7. https://github.com/sibtc/django-multiple-user-types-example\n",
    "8. https://simpleisbetterthancomplex.com/tutorial/2018/01/18/how-to-implement-multiple-user-types-with-django.html\n",
    "9. https://github.com/wsvincent/django-auth-tutorial\n",
    "10. https://www.youtube.com/watch?v=DbAzWll4UIA\n"
   ]
  }
 ],
 "metadata": {
  "kernelspec": {
   "display_name": "Python 3",
   "language": "python",
   "name": "python3"
  },
  "language_info": {
   "codemirror_mode": {
    "name": "ipython",
    "version": 3
   },
   "file_extension": ".py",
   "mimetype": "text/x-python",
   "name": "python",
   "nbconvert_exporter": "python",
   "pygments_lexer": "ipython3",
   "version": "3.7.4"
  }
 },
 "nbformat": 4,
 "nbformat_minor": 2
}
