{
 "cells": [
  {
   "cell_type": "markdown",
   "metadata": {},
   "source": [
    "# Download and install anaconda\n",
    "\n",
    "Download the anaconda distribution that contains python along with many librarties for scientific and general purpose programming (Windows x64 installer will most likely suit you best). During installation specify that you want to use anaconda as default python and the path variable should be set automatically. "
   ]
  },
  {
   "cell_type": "code",
   "execution_count": null,
   "metadata": {},
   "outputs": [],
   "source": [
    "https://www.anaconda.com/distribution/"
   ]
  },
  {
   "cell_type": "markdown",
   "metadata": {},
   "source": [
    "If everything works fine you can use a command terminal to open python in interactive mode. You may open Powershell in a specific folder \"shift + right click\" and selecting \"Open Powershell\" from the context menu (Alternatively you may use cmd). Then type:"
   ]
  },
  {
   "cell_type": "code",
   "execution_count": null,
   "metadata": {},
   "outputs": [],
   "source": [
    "python"
   ]
  },
  {
   "cell_type": "markdown",
   "metadata": {},
   "source": [
    "If everything works fine and the specified version relates to anaconda your lucky. Exit using \"exit()\" and enter."
   ]
  },
  {
   "cell_type": "markdown",
   "metadata": {},
   "source": [
    "\n",
    "\n",
    "# Adjust the Windows Path variable manually if commands are not found\n",
    "\n",
    "In case you encounter problems it might be that the Windows PATH variable is not set. One may specify directories here that are recognized upon system startup (or login to a user profile) such that contained \".exe\" files are found without specifying the full path. Hence you may use \"conda\" instead of \"C:\\\\...\\conda.exe\" only if the path is set correctly. The same holds for \"python\". \n",
    "\n",
    "\n",
    "To change the path in Windows type path in the windows search-bar. The fist entry shall relate to \"Umgebungsvariablen für dieses Konto ändern\" or \"Set environment variables\". You can edit the variable \"Path\" for your account. Add the following lines where you replace \"gerstem5\" with your username:"
   ]
  },
  {
   "cell_type": "code",
   "execution_count": null,
   "metadata": {},
   "outputs": [],
   "source": [
    "C:\\Users\\gerstem5\\AppData\\Local\\Continuum\\anaconda3;\n",
    "C:\\Users\\gerstem5\\AppData\\Local\\Continuum\\anaconda3\\Scripts;\n",
    "C:\\Users\\gerstem5\\AppData\\Local\\Continuum\\anaconda3\\Library\\bin;\n",
    "C:\\Users\\gerstem5\\AppData\\Local\\Continuum\\anaconda3\\Library\\usr\\bin;"
   ]
  },
  {
   "cell_type": "markdown",
   "metadata": {},
   "source": [
    "# Prevent App Store from opening upon use of \"python\"\n",
    "If the windows store opens up when you use the command \"python\" in the command line you need to deactivate the auto installation behavior. Navigate to \"app execution aliases\" and toggle the respective radio buttons. "
   ]
  },
  {
   "cell_type": "markdown",
   "metadata": {},
   "source": [
    "# Set proxy server setting such that conda package manager can be used\n",
    "\n",
    "To be able to install packages using the anaconda package manager \"conda\" from the BASF network you need to adjust the proxy servers. \n",
    "\n",
    "First, run the following for initialization."
   ]
  },
  {
   "cell_type": "code",
   "execution_count": null,
   "metadata": {},
   "outputs": [],
   "source": [
    "conda config"
   ]
  },
  {
   "cell_type": "code",
   "execution_count": null,
   "metadata": {},
   "outputs": [],
   "source": [
    "Then create a file \".condarc\" in your home directory and add the following:"
   ]
  },
  {
   "cell_type": "code",
   "execution_count": null,
   "metadata": {},
   "outputs": [],
   "source": [
    "channels:\n",
    "  - conda-forge\n",
    "  - defaults\n",
    "ssl_verify: false\n",
    "proxy_servers:\n",
    "  http: http://10.4.55.30:8080\n",
    "  https: https://10.4.55.30:8080\n",
    "show_channel_urls: True\n"
   ]
  },
  {
   "cell_type": "markdown",
   "metadata": {},
   "source": [
    "A restart might be necessary."
   ]
  },
  {
   "cell_type": "markdown",
   "metadata": {},
   "source": [
    "# Further help and references\n",
    "\n",
    "https://www.anaconda.com/distribution/\n",
    "\n",
    "https://superuser.com/questions/1437590/typing-python-on-windows-10-version-1903-command-prompt-opens-microsoft-stor"
   ]
  }
 ],
 "metadata": {
  "kernelspec": {
   "display_name": "Python 3",
   "language": "python",
   "name": "python3"
  },
  "language_info": {
   "codemirror_mode": {
    "name": "ipython",
    "version": 3
   },
   "file_extension": ".py",
   "mimetype": "text/x-python",
   "name": "python",
   "nbconvert_exporter": "python",
   "pygments_lexer": "ipython3",
   "version": "3.7.4"
  }
 },
 "nbformat": 4,
 "nbformat_minor": 2
}
