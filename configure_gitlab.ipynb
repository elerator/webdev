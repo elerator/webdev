{
 "cells": [
  {
   "cell_type": "markdown",
   "metadata": {},
   "source": [
    "# Configure GitLab on Windows"
   ]
  },
  {
   "cell_type": "markdown",
   "metadata": {},
   "source": [
    "The basf GitLab is available via: [https://gitlab.roqs.basf.net/](https://gitlab.roqs.basf.net/)\n",
    "\n",
    "## 1. Make sure your you use you BASF-ID card as it is required for your first login. Follow the steps described upon first visit of the site.\n",
    "\n",
    "## 2. Download git for Windows. Git comes with a tool to create ssh keys that allow you to protect the communication with gitlab.\n",
    "\n",
    "## 3. Create and copy a new ssh key.\n",
    "\n",
    "To create a new key open PowerShell and execute the following command where you replace \"your.email@basf.com\" with your email."
   ]
  },
  {
   "cell_type": "code",
   "execution_count": null,
   "metadata": {},
   "outputs": [],
   "source": [
    "ssh-keygen -t ed25519 -C \"your.email@basf.com\""
   ]
  },
  {
   "cell_type": "markdown",
   "metadata": {},
   "source": [
    "You do not necessarily need to specify a password. Remember the path you choose as the output directory. Use the file explorer to navigate there and copy the content of the file that ends with \".pub\" (Open e.g. with Notepad). This is your ssh key."
   ]
  },
  {
   "cell_type": "markdown",
   "metadata": {},
   "source": [
    "## 4. Enter the key in GitLab: [https://gitlab.roqs.basf.net/profile/keys](https://gitlab.roqs.basf.net/profile/keys)\n",
    "\n",
    "## 5. Configure git \n",
    "\n",
    "Use the follwing command in PowerShell:"
   ]
  },
  {
   "cell_type": "code",
   "execution_count": null,
   "metadata": {},
   "outputs": [],
   "source": [
    "git config --global http.sslVerify false"
   ]
  },
  {
   "cell_type": "markdown",
   "metadata": {},
   "source": [
    "## 6. Now your ready to clone repositories\n",
    "\n",
    "Simply navigate to the repository site and copy it's https address (There is a button that will allow you to find this address in GitLab). Use git to clone the repository: "
   ]
  },
  {
   "cell_type": "code",
   "execution_count": null,
   "metadata": {},
   "outputs": [],
   "source": [
    "git clone https://gitlab.roqs.basf.net/YOUR_REPOSITORY_HERE.git"
   ]
  }
 ],
 "metadata": {
  "kernelspec": {
   "display_name": "Python 3",
   "language": "python",
   "name": "python3"
  },
  "language_info": {
   "codemirror_mode": {
    "name": "ipython",
    "version": 3
   },
   "file_extension": ".py",
   "mimetype": "text/x-python",
   "name": "python",
   "nbconvert_exporter": "python",
   "pygments_lexer": "ipython3",
   "version": "3.7.4"
  }
 },
 "nbformat": 4,
 "nbformat_minor": 2
}
